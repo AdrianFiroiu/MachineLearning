{
 "cells": [
  {
   "cell_type": "code",
   "execution_count": 1,
   "metadata": {
    "collapsed": false
   },
   "outputs": [
    {
     "data": {
      "text/plain": [
       "[[40, 37],\n",
       " [41, 51],\n",
       " [45, 46],\n",
       " [47, 38],\n",
       " [49, 33],\n",
       " [49, 56],\n",
       " [50, 44],\n",
       " [54, 25],\n",
       " [54, 35],\n",
       " [55, 49],\n",
       " [58, 38],\n",
       " [99, 110],\n",
       " [99, 118],\n",
       " [102, 114],\n",
       " [102, 121],\n",
       " [103, 106],\n",
       " [104, 118],\n",
       " [106, 108],\n",
       " [106, 114],\n",
       " [107, 122],\n",
       " [110, 110],\n",
       " [110, 118],\n",
       " [111, 105],\n",
       " [111, 114],\n",
       " [113, 112]]"
      ]
     },
     "execution_count": 1,
     "metadata": {},
     "output_type": "execute_result"
    }
   ],
   "source": [
    "from PIL import Image\n",
    "import numpy as np\n",
    "\n",
    "def rgb_to_int(r,g,b):\n",
    "    return (r<<16) + (g<<8) + b\n",
    "\n",
    "def read_data(filename):\n",
    "    x = []\n",
    "    y = []\n",
    "    back_color = rgb_to_int(255,255,255)\n",
    "    \n",
    "    image = Image.open(filename)\n",
    "    col,row = image.size\n",
    "    pixels = image.load()\n",
    "\n",
    "    for i in range(row):\n",
    "        for j in range(col):\n",
    "            r,g,b = pixels[i,j]\n",
    "            color = rgb_to_int(r,g,b)\n",
    "            \n",
    "            if (color != back_color):\n",
    "                x.append([i,j])\n",
    "                y.append(color)\n",
    "    return x,y\n",
    "\n",
    "x,y = read_data(\"data.png\")\n",
    "\n",
    "x"
   ]
  },
  {
   "cell_type": "code",
   "execution_count": 2,
   "metadata": {
    "collapsed": false
   },
   "outputs": [
    {
     "data": {
      "text/plain": [
       "[16711680,\n",
       " 16711680,\n",
       " 16711680,\n",
       " 16711680,\n",
       " 16711680,\n",
       " 16711680,\n",
       " 16711680,\n",
       " 16711680,\n",
       " 16711680,\n",
       " 16711680,\n",
       " 16711680,\n",
       " 0,\n",
       " 0,\n",
       " 0,\n",
       " 0,\n",
       " 0,\n",
       " 0,\n",
       " 0,\n",
       " 0,\n",
       " 0,\n",
       " 0,\n",
       " 0,\n",
       " 0,\n",
       " 0,\n",
       " 0]"
      ]
     },
     "execution_count": 2,
     "metadata": {},
     "output_type": "execute_result"
    }
   ],
   "source": [
    "y"
   ]
  }
 ],
 "metadata": {
  "anaconda-cloud": {},
  "kernelspec": {
   "display_name": "Python [default]",
   "language": "python",
   "name": "python2"
  },
  "language_info": {
   "codemirror_mode": {
    "name": "ipython",
    "version": 2
   },
   "file_extension": ".py",
   "mimetype": "text/x-python",
   "name": "python",
   "nbconvert_exporter": "python",
   "pygments_lexer": "ipython2",
   "version": "2.7.13"
  }
 },
 "nbformat": 4,
 "nbformat_minor": 2
}
